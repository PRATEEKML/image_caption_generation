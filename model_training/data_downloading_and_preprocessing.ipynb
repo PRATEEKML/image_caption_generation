{
 "cells": [
  {
   "cell_type": "code",
   "execution_count": null,
   "metadata": {
    "id": "qLNJhuev8HZr"
   },
   "outputs": [],
   "source": [
    "from tensorflow.keras.preprocessing import image\n",
    "from tensorflow.keras.preprocessing.image import ImageDataGenerator\n",
    "from tensorflow.keras.applications.resnet50 import ResNet50,preprocess_input\n",
    "from tensorflow.keras.optimizers import Adam\n",
    "from tensorflow.keras.models import Model\n",
    "from tensorflow.keras.utils import to_categorical\n",
    "from tensorflow.keras.callbacks import ModelCheckpoint\n",
    "from tensorflow.keras.layers import *\n",
    "import matplotlib.pyplot as plt\n",
    "import numpy as np\n",
    "import pickle\n",
    "import os\n",
    "import shutil\n",
    "import json\n",
    "import re\n",
    "from collections import Counter"
   ]
  },
  {
   "cell_type": "markdown",
   "metadata": {},
   "source": [
    "### downloading flickr8k datset from kaggle using api_key"
   ]
  },
  {
   "cell_type": "code",
   "execution_count": null,
   "metadata": {
    "id": "enf1OePSgKk6"
   },
   "outputs": [],
   "source": [
    "!mkdir /root/.kaggle"
   ]
  },
  {
   "cell_type": "code",
   "execution_count": null,
   "metadata": {
    "id": "rrLjVGMRhYS0"
   },
   "outputs": [],
   "source": [
    "token = {\"username\":\"\" ,\"key\":\"\"}\n",
    "with open('/root/.kaggle/kaggle.json', 'w') as file:\n",
    "    json.dump(token, file)"
   ]
  },
  {
   "cell_type": "code",
   "execution_count": null,
   "metadata": {
    "id": "YVyki7w0hbEU"
   },
   "outputs": [],
   "source": [
    "!cp /.kaggle/kaggle.json ~/.kaggle/kaggle.json"
   ]
  },
  {
   "cell_type": "code",
   "execution_count": null,
   "metadata": {
    "colab": {
     "base_uri": "https://localhost:8080/",
     "height": 54
    },
    "id": "NGp6fDgHhdd0",
    "outputId": "d9045d43-4e5c-40ce-f9a3-b0568ebc3237"
   },
   "outputs": [
    {
     "name": "stdout",
     "output_type": "stream",
     "text": [
      "Warning: Your Kaggle API key is readable by other users on this system! To fix this, you can run 'chmod 600 /root/.kaggle/kaggle.json'\n",
      "- path is now set to: {/content}\n"
     ]
    }
   ],
   "source": [
    "!kaggle config set -n path -v{/content}"
   ]
  },
  {
   "cell_type": "code",
   "execution_count": null,
   "metadata": {
    "id": "bort_n85hmSp"
   },
   "outputs": [],
   "source": [
    "!chmod 600 /root/.kaggle/kaggle.json"
   ]
  },
  {
   "cell_type": "code",
   "execution_count": null,
   "metadata": {
    "colab": {
     "base_uri": "https://localhost:8080/",
     "height": 72
    },
    "id": "Fmy0Kx60ho0i",
    "outputId": "e2545fd6-ee5c-40c3-8ac6-dbef642fd6ab"
   },
   "outputs": [
    {
     "name": "stdout",
     "output_type": "stream",
     "text": [
      "Downloading flickr8k.zip to {/content}/datasets/shadabhussain/flickr8k\n",
      "100% 2.12G/2.13G [00:48<00:00, 48.7MB/s]\n",
      "100% 2.13G/2.13G [00:48<00:00, 47.0MB/s]\n"
     ]
    }
   ],
   "source": [
    "!kaggle datasets download -d alessiocorrado99/animals10"
   ]
  },
  {
   "cell_type": "code",
   "execution_count": null,
   "metadata": {
    "id": "jFcDJQcAhr06"
   },
   "outputs": [],
   "source": [
    "!unzip /content/flickr8k.zip"
   ]
  },
  {
   "cell_type": "code",
   "execution_count": null,
   "metadata": {
    "id": "ox4e8i146vNW"
   },
   "outputs": [],
   "source": [
    "img_path='/content/flickr_data/Flickr_Data/Images'"
   ]
  },
  {
   "cell_type": "code",
   "execution_count": null,
   "metadata": {
    "colab": {
     "base_uri": "https://localhost:8080/",
     "height": 35
    },
    "id": "EjsAAvWg6m_1",
    "outputId": "f6d13805-2de4-4742-fc8e-49d6a6830b83"
   },
   "outputs": [
    {
     "data": {
      "text/plain": [
       "'540604040_bec822c144.jpg'"
      ]
     },
     "execution_count": null,
     "metadata": {
      "tags": []
     },
     "output_type": "execute_result"
    }
   ],
   "source": [
    "os.listdir(img_path)[5]"
   ]
  },
  {
   "cell_type": "markdown",
   "metadata": {
    "id": "2gREATa4F6HP"
   },
   "source": [
    "### Preprocess Captions"
   ]
  },
  {
   "cell_type": "code",
   "execution_count": null,
   "metadata": {
    "id": "iTRun4h3eKsc"
   },
   "outputs": [],
   "source": [
    "all_caption={}\n",
    "with open('flickr_data/Flickr_Data/Flickr_TextData/Flickr8k.token.txt') as f:\n",
    "    data=f.read().split('\\n')[:-1]\n",
    "    for i in data:\n",
    "        key,value=i.split('\\t')\n",
    "        key=key.split('#')[0]\n",
    "        if all_caption.get(key) is None:\n",
    "            all_caption[key]=[]\n",
    "        all_caption[key].append(value)"
   ]
  },
  {
   "cell_type": "code",
   "execution_count": null,
   "metadata": {
    "colab": {
     "base_uri": "https://localhost:8080/",
     "height": 35
    },
    "id": "DigNJdKwJr0E",
    "outputId": "7880248f-becc-4794-ff25-f81450bf331f"
   },
   "outputs": [
    {
     "name": "stdout",
     "output_type": "stream",
     "text": [
      "8092\n"
     ]
    }
   ],
   "source": [
    "print(len(all_caption))"
   ]
  },
  {
   "cell_type": "markdown",
   "metadata": {
    "id": "36zesTSfi-iW"
   },
   "source": [
    "### cleaning data"
   ]
  },
  {
   "cell_type": "code",
   "execution_count": null,
   "metadata": {
    "id": "b8pPOWhFd0_Z"
   },
   "outputs": [],
   "source": [
    "def clean_data(data):\n",
    "    for k,v in data.items():\n",
    "        for i in range(len(v)):\n",
    "            v[i]=v[i].lower()\n",
    "            v[i]=re.sub('[^a-z]+',' ',v[i])\n",
    "            v[i]='startseq '+' '.join([w for w in v[i].split() if len(w)>1])+' endseq'\n",
    "        data[k]=v\n",
    "    return data"
   ]
  },
  {
   "cell_type": "code",
   "execution_count": null,
   "metadata": {
    "id": "Vp6qpTFRGMtm"
   },
   "outputs": [],
   "source": [
    "all_caption=clean_data(all_caption)"
   ]
  },
  {
   "cell_type": "code",
   "execution_count": null,
   "metadata": {
    "colab": {
     "base_uri": "https://localhost:8080/",
     "height": 109
    },
    "id": "eb0tAyoRGdId",
    "outputId": "927721e8-c11e-48d9-c19b-9ba9493b82c7"
   },
   "outputs": [
    {
     "data": {
      "text/plain": [
       "['startseq woman in yellow shirt and green shorts is climbing an artificial red wall whilst wearing safety harness endseq',\n",
       " 'startseq woman in blue shorts and white shirt is indoor rock climbing endseq',\n",
       " 'startseq the girl is climbing rock wall endseq',\n",
       " 'startseq the girl is in harness climbing rocks endseq',\n",
       " 'startseq woman climbing an artificial rock wall endseq']"
      ]
     },
     "execution_count": null,
     "metadata": {
      "tags": []
     },
     "output_type": "execute_result"
    }
   ],
   "source": [
    "all_caption['1084104085_3b06223afe.jpg']"
   ]
  },
  {
   "cell_type": "markdown",
   "metadata": {
    "id": "TqtFZKfiFM1g"
   },
   "source": [
    "### creating vocab"
   ]
  },
  {
   "cell_type": "code",
   "execution_count": null,
   "metadata": {
    "colab": {
     "base_uri": "https://localhost:8080/",
     "height": 35
    },
    "id": "aLAhgDrAmNev",
    "outputId": "986ae49e-0afe-48c9-ec58-012081b0c9ed"
   },
   "outputs": [
    {
     "name": "stdout",
     "output_type": "stream",
     "text": [
      "8426\n"
     ]
    }
   ],
   "source": [
    "words=[]\n",
    "for i in all_caption.values():\n",
    "    for sents in i:\n",
    "        [words.append(w) for w in sents.split()]\n",
    "words=dict(Counter(words))\n",
    "print(len(words))"
   ]
  },
  {
   "cell_type": "code",
   "execution_count": null,
   "metadata": {
    "id": "57w6jPlLG4hH"
   },
   "outputs": [],
   "source": [
    "words=sorted(words.items(),key=lambda x:x[1],reverse=True)"
   ]
  },
  {
   "cell_type": "code",
   "execution_count": null,
   "metadata": {
    "colab": {
     "base_uri": "https://localhost:8080/",
     "height": 35
    },
    "id": "mhwZqJ3aG4Nf",
    "outputId": "7319b299-28b4-47c9-cc40-b7a3b74059b3"
   },
   "outputs": [
    {
     "name": "stdout",
     "output_type": "stream",
     "text": [
      "1847\n"
     ]
    }
   ],
   "source": [
    "word_list=[]\n",
    "for i in words:\n",
    "    if i[1]>10:\n",
    "        word_list.append(i[0])\n",
    "print(len(word_list))"
   ]
  },
  {
   "cell_type": "markdown",
   "metadata": {
    "id": "i0OwsTc5M4E2"
   },
   "source": [
    "### Mapping between words and indexes"
   ]
  },
  {
   "cell_type": "code",
   "execution_count": null,
   "metadata": {
    "id": "_XX480GPM-EQ"
   },
   "outputs": [],
   "source": [
    "#we will start indexing from 1 because 0 index is reserved for padding the sentences\n",
    "word_to_index={}\n",
    "index_to_word={}\n",
    "for i in enumerate(word_list):\n",
    "    word_to_index[i[1]]=i[0]+1\n",
    "    index_to_word[i[0]+1]=i[1]"
   ]
  },
  {
   "cell_type": "code",
   "execution_count": null,
   "metadata": {
    "colab": {
     "base_uri": "https://localhost:8080/",
     "height": 35
    },
    "id": "DwsPbXOJOBJB",
    "outputId": "abec81ea-6ddd-49fb-af72-d89fa746bf4e"
   },
   "outputs": [
    {
     "data": {
      "text/plain": [
       "4"
      ]
     },
     "execution_count": null,
     "metadata": {
      "tags": []
     },
     "output_type": "execute_result"
    }
   ],
   "source": [
    "word_to_index['the']"
   ]
  },
  {
   "cell_type": "code",
   "execution_count": null,
   "metadata": {
    "colab": {
     "base_uri": "https://localhost:8080/",
     "height": 36
    },
    "id": "7UFf2QnFOAff",
    "outputId": "8ab4536e-97b2-49eb-85d6-727f98c09997"
   },
   "outputs": [
    {
     "data": {
      "application/vnd.google.colaboratory.intrinsic+json": {
       "type": "string"
      },
      "text/plain": [
       "'the'"
      ]
     },
     "execution_count": null,
     "metadata": {
      "tags": []
     },
     "output_type": "execute_result"
    }
   ],
   "source": [
    "index_to_word[4]"
   ]
  },
  {
   "cell_type": "markdown",
   "metadata": {
    "id": "xj-p9CSFYtSY"
   },
   "source": [
    "### Creating Train and validation data"
   ]
  },
  {
   "cell_type": "code",
   "execution_count": null,
   "metadata": {
    "id": "0nv2swbtY2co"
   },
   "outputs": [],
   "source": [
    "train=[]\n",
    "val=[]\n",
    "with open('flickr_data/Flickr_Data/Flickr_TextData/Flickr_8k.trainImages.txt') as f:\n",
    "    train=f.read().split('\\n')[:-1]\n",
    "with open('flickr_data/Flickr_Data/Flickr_TextData/Flickr_8k.devImages.txt') as f:\n",
    "    val=f.read().split('\\n')[:-1]"
   ]
  },
  {
   "cell_type": "code",
   "execution_count": null,
   "metadata": {
    "id": "Vkkr59NbY0cd"
   },
   "outputs": [],
   "source": [
    "def caption(data):\n",
    "    img_cap={}\n",
    "    for i in data:\n",
    "        if i in all_caption:\n",
    "            img_cap[i]=all_caption[i]\n",
    "    return img_cap"
   ]
  },
  {
   "cell_type": "code",
   "execution_count": null,
   "metadata": {
    "id": "0CNQwgYwY0fN"
   },
   "outputs": [],
   "source": [
    "train_description=caption(train)\n",
    "val_description=caption(val)"
   ]
  },
  {
   "cell_type": "code",
   "execution_count": null,
   "metadata": {
    "colab": {
     "base_uri": "https://localhost:8080/",
     "height": 35
    },
    "id": "sEyIHFlMd1Bl",
    "outputId": "41d8f346-d752-4738-c3a0-864872169d1c"
   },
   "outputs": [
    {
     "name": "stdout",
     "output_type": "stream",
     "text": [
      "6000 1000\n"
     ]
    }
   ],
   "source": [
    "print(len(train_description),len(val_description))"
   ]
  },
  {
   "cell_type": "code",
   "execution_count": null,
   "metadata": {
    "colab": {
     "base_uri": "https://localhost:8080/",
     "height": 109
    },
    "id": "XjKnCUqJd06B",
    "outputId": "c5786ac1-8db9-48de-cd24-2a6ead543661"
   },
   "outputs": [
    {
     "data": {
      "text/plain": [
       "['startseq man in an orange hat starring at something endseq',\n",
       " 'startseq man wears an orange hat and glasses endseq',\n",
       " 'startseq man with gauges and glasses is wearing blitz hat endseq',\n",
       " 'startseq man with glasses is wearing beer can crocheted hat endseq',\n",
       " 'startseq the man with pierced ears is wearing glasses and an orange hat endseq']"
      ]
     },
     "execution_count": null,
     "metadata": {
      "tags": []
     },
     "output_type": "execute_result"
    }
   ],
   "source": [
    "train_description['1007129816_e794419615.jpg']"
   ]
  },
  {
   "cell_type": "markdown",
   "metadata": {
    "id": "RUf230n2OjEH"
   },
   "source": [
    "### saving all the preprocessed text file for future preprocessing"
   ]
  },
  {
   "cell_type": "code",
   "execution_count": null,
   "metadata": {
    "id": "SOa28kbrmNTM"
   },
   "outputs": [],
   "source": [
    "with open('train_description.pkl','wb') as f:\n",
    "    pickle.dump(train_description,f)\n",
    "with open('val_description.pkl','wb') as f:\n",
    "    pickle.dump(val_description,f)\n",
    "with open('word_to_index.pkl','wb') as f:\n",
    "    pickle.dump(word_to_index,f)\n",
    "with open('index_to_word.pkl','wb') as f:\n",
    "    pickle.dump(index_to_word,f) "
   ]
  },
  {
   "cell_type": "markdown",
   "metadata": {},
   "source": [
    "### loading saved files"
   ]
  },
  {
   "cell_type": "code",
   "execution_count": null,
   "metadata": {
    "id": "YGOwWCE4knj7"
   },
   "outputs": [],
   "source": [
    "with open('train_description.pkl','rb') as f:\n",
    "    train_description=pickle.load(f)\n",
    "with open('val_description.pkl','rb') as f:\n",
    "    val_description=pickle.load(f)\n",
    "with open('word_to_index.pkl','rb') as f:\n",
    "    word_to_index=pickle.load(f)\n",
    "with open('index_to_word.pkl','rb') as f:\n",
    "    index_to_word=pickle.load(f)"
   ]
  },
  {
   "cell_type": "markdown",
   "metadata": {
    "id": "aJCazXF-knUj"
   },
   "source": [
    "### Creating image vector using ResNet-50 model"
   ]
  },
  {
   "cell_type": "code",
   "execution_count": null,
   "metadata": {
    "id": "xvEsnXyh7SQ5"
   },
   "outputs": [],
   "source": [
    "base_model=ResNet50(weights='imagenet')\n",
    "base_model.summary()"
   ]
  },
  {
   "cell_type": "code",
   "execution_count": null,
   "metadata": {
    "id": "MqW9H4mu7WbV"
   },
   "outputs": [],
   "source": [
    "def preprocess(img_list,name):\n",
    "    model = Model(inputs=base_model.input, outputs=base_model.get_layer('avg_pool').output)\n",
    "    di={}\n",
    "    l=len(img_list)\n",
    "    for i in range(l):\n",
    "        print(i+1,'/',l)\n",
    "        j=img_list[i]\n",
    "        img = image.load_img(os.path.join(img_path,j),target_size=(224,224))\n",
    "        x = image.img_to_array(img,dtype='uint8')\n",
    "        x = np.expand_dims(x, axis=0)\n",
    "        x = preprocess_input(x)\n",
    "        preds = model.predict(x)\n",
    "        di[j]=preds.flatten()\n",
    "    print(di[j].shape)\n",
    "    with open('encoding_'+name+'.pkl','wb') as f:\n",
    "        pickle.dump(di,f)"
   ]
  },
  {
   "cell_type": "code",
   "execution_count": null,
   "metadata": {
    "id": "BDltf1M5lINW"
   },
   "outputs": [],
   "source": [
    "train=[k for k in train_description]\n",
    "val=[k for k in val_description]"
   ]
  },
  {
   "cell_type": "code",
   "execution_count": null,
   "metadata": {
    "id": "50P5Xv_e_bjt"
   },
   "outputs": [],
   "source": [
    "preprocess(train,'train')"
   ]
  },
  {
   "cell_type": "code",
   "execution_count": null,
   "metadata": {
    "id": "_pcnix3llamS"
   },
   "outputs": [],
   "source": [
    "preprocess(val,'val')"
   ]
  },
  {
   "cell_type": "markdown",
   "metadata": {},
   "source": [
    "### creating embedding matrix"
   ]
  },
  {
   "cell_type": "code",
   "execution_count": null,
   "metadata": {
    "id": "wfmfyu0DJQbo"
   },
   "outputs": [],
   "source": [
    "with open('glove.6B.50d.txt','r') as f:\n",
    "    all_embeddings=f.read()\n",
    "all_em_dict={}\n",
    "for i in all_embeddings.split('\\n')[:-1]:\n",
    "    j=i.split()\n",
    "    word=j[0]\n",
    "    vector=np.asarray(j[1:],dtype='float32')\n",
    "    all_em_dict[word]=vector"
   ]
  },
  {
   "cell_type": "code",
   "execution_count": null,
   "metadata": {
    "colab": {
     "base_uri": "https://localhost:8080/",
     "height": 35
    },
    "id": "yf4y_NRnpF5c",
    "outputId": "410fc928-a672-488e-ccdf-183aae12025d"
   },
   "outputs": [
    {
     "data": {
      "text/plain": [
       "400000"
      ]
     },
     "execution_count": 46,
     "metadata": {
      "tags": []
     },
     "output_type": "execute_result"
    }
   ],
   "source": [
    "len(all_em_dict)"
   ]
  },
  {
   "cell_type": "code",
   "execution_count": null,
   "metadata": {
    "id": "OhRecHINKvSO"
   },
   "outputs": [],
   "source": [
    "def create_embedding(word_to_index):\n",
    "    embedding_idx=np.zeros((len(word_to_index)+1,50))\n",
    "    for word in word_to_index:\n",
    "    if(all_em_dict.get(word) is not None):\n",
    "        embedding_idx[word_to_index[word]]=all_em_dict[word]\n",
    "    return embedding_idx"
   ]
  },
  {
   "cell_type": "code",
   "execution_count": null,
   "metadata": {
    "id": "jJuhHzAFKzQI"
   },
   "outputs": [],
   "source": [
    "embedding_idx=create_embedding(word_to_index)"
   ]
  },
  {
   "cell_type": "code",
   "execution_count": null,
   "metadata": {
    "colab": {
     "base_uri": "https://localhost:8080/",
     "height": 35
    },
    "id": "MoCnm2ZvLkhT",
    "outputId": "88acad24-a0db-4262-f361-c1b3292a8433"
   },
   "outputs": [
    {
     "data": {
      "text/plain": [
       "1848"
      ]
     },
     "execution_count": 49,
     "metadata": {
      "tags": []
     },
     "output_type": "execute_result"
    }
   ],
   "source": [
    "len(embedding_idx)"
   ]
  },
  {
   "cell_type": "code",
   "execution_count": null,
   "metadata": {
    "id": "sxKktQDCMxbr"
   },
   "outputs": [],
   "source": [
    "np.save('embedding_idx.npy',embedding_idx,allow_pickle=True)"
   ]
  }
 ],
 "metadata": {
  "accelerator": "GPU",
  "colab": {
   "collapsed_sections": [],
   "name": "kaggle_download.ipynb",
   "provenance": []
  },
  "kernelspec": {
   "display_name": "Python 3",
   "language": "python",
   "name": "python3"
  },
  "language_info": {
   "codemirror_mode": {
    "name": "ipython",
    "version": 3
   },
   "file_extension": ".py",
   "mimetype": "text/x-python",
   "name": "python",
   "nbconvert_exporter": "python",
   "pygments_lexer": "ipython3",
   "version": "3.7.4"
  }
 },
 "nbformat": 4,
 "nbformat_minor": 1
}
